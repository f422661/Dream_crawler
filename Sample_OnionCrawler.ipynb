{
 "cells": [
  {
   "cell_type": "code",
   "execution_count": 1,
   "metadata": {},
   "outputs": [],
   "source": [
    "import re\n",
    "import logging\n",
    "import requests\n",
    "from dreamMarketFunc import *\n",
    "from bs4 import BeautifulSoup\n",
    "from selenium import webdriver\n",
    "from fake_useragent import UserAgent\n",
    "from selenium.webdriver.chrome.options import Options\n",
    "from selenium.webdriver.common.keys import Keys\n",
    "from bs4 import BeautifulSoup\n",
    "\n"
   ]
  },
  {
   "cell_type": "code",
   "execution_count": 2,
   "metadata": {},
   "outputs": [],
   "source": [
    "logging.basicConfig(level=logging.INFO, format='%(asctime)s - %(name)s - %(levelname)s - %(message)s')"
   ]
  },
  {
   "cell_type": "markdown",
   "metadata": {},
   "source": [
    "# Init Tor : Open SocksPort  "
   ]
  },
  {
   "cell_type": "code",
   "execution_count": 3,
   "metadata": {
    "scrolled": true
   },
   "outputs": [
    {
     "name": "stderr",
     "output_type": "stream",
     "text": [
      "2019-03-26 11:57:29,413 - root - INFO - b'COMMAND   PID    USER   FD   TYPE             DEVICE SIZE/OFF NODE NAME\\ntor     99876 deanlin    4u  IPv4 0x46e175ea8a95fbab      0t0  TCP 127.0.0.1:9050 (LISTEN)\\n'\n",
      "2019-03-26 11:57:29,424 - root - INFO - kill tor pid 99876 success\n",
      "2019-03-26 11:57:32,442 - stem - DEBUG - System call: tor --version (runtime: 0.01)\n"
     ]
    },
    {
     "name": "stdout",
     "output_type": "stream",
     "text": [
      "\u001b[32mMar 26 11:57:32.000 [notice] Bootstrapped 0%: Starting\u001b[0m \n",
      "\u001b[32mMar 26 11:57:33.000 [notice] Bootstrapped 10%: Finishing handshake with directory server\u001b[0m \n",
      "\u001b[32mMar 26 11:57:33.000 [notice] Bootstrapped 80%: Connecting to the Tor network\u001b[0m \n",
      "\u001b[32mMar 26 11:57:34.000 [notice] Bootstrapped 90%: Establishing a Tor circuit\u001b[0m \n"
     ]
    },
    {
     "name": "stderr",
     "output_type": "stream",
     "text": [
      "2019-03-26 11:57:36,601 - root - INFO - Start tor success, socks_port : 9050\n"
     ]
    },
    {
     "name": "stdout",
     "output_type": "stream",
     "text": [
      "\u001b[32mMar 26 11:57:36.000 [notice] Bootstrapped 100%: Done\u001b[0m \n"
     ]
    }
   ],
   "source": [
    "from TorInit import TorInit\n",
    "TorInit = TorInit(socks_port=9050)\n",
    "TorInit.startTorProxy()"
   ]
  },
  {
   "cell_type": "markdown",
   "metadata": {},
   "source": [
    "# set chrome driver proxy and user-agent"
   ]
  },
  {
   "cell_type": "code",
   "execution_count": 4,
   "metadata": {
    "scrolled": true
   },
   "outputs": [
    {
     "name": "stderr",
     "output_type": "stream",
     "text": [
      "/Users/deanlin/anaconda3/lib/python3.6/site-packages/ipykernel_launcher.py:12: DeprecationWarning: use options instead of chrome_options\n",
      "  if sys.path[0] == '':\n"
     ]
    }
   ],
   "source": [
    "opts = Options()\n",
    "\n",
    "proxy = \"socks5://127.0.0.1:9050\"\n",
    "opts.add_argument('--proxy-server={}'.format(proxy)) \n",
    "USER_AGENT = UserAgent().random\n",
    "# USER_AGENT = \"Mozilla/5.0 (Windows NT 6.1; WOW64) AppleWebKit/537.36 (KHTML, like Gecko) Chrome/31.0.1623.0 Safari/537.36\"\n",
    "\n",
    "\n",
    "\n",
    "opts.add_argument(\"user-agent={}\".format(USER_AGENT))      \n",
    "\n",
    "browser = webdriver.Chrome(executable_path = \"./chrome/chromedriver\", chrome_options=opts)\n",
    "\n",
    "\n",
    "## Mozilla/5.0 (Windows NT 6.1; WOW64) AppleWebKit/537.36 (KHTML, like Gecko) Chrome/31.0.1623.0 Safari/537.36"
   ]
  },
  {
   "cell_type": "markdown",
   "metadata": {},
   "source": [
    "# login and get temp cookies"
   ]
  },
  {
   "cell_type": "code",
   "execution_count": 6,
   "metadata": {},
   "outputs": [],
   "source": [
    "# browser.get('http://lchudifyeqm4ldjj.onion/')\n",
    "browser.execute_script('''window.open(\"http://lchudifyeqm4ldjj.onion\",\"_blank\");''')\n",
    "browser.execute_script('''window.open(\"http://jd6yhuwcivehvdt4.onion\",\"_blank\");''')\n",
    "browser.execute_script('''window.open(\"http://t3e6ly3uoif4zcw2.onion\",\"_blank\");''')\n",
    "browser.execute_script('''window.open(\"http://7ep7acrkunzdcw3l.onion\",\"_blank\");''')\n",
    "browser.execute_script('''window.open(\"http://vilpaqbrnvizecjo.onion\",\"_blank\");''')\n",
    "browser.execute_script('''window.open(\"http://igyifrhnvxq33sy5.onion\",\"_blank\");''')\n",
    "browser.execute_script('''window.open(\"http://6qlocfg6zq2kyacl.onion\",\"_blank\");''')\n",
    "browser.execute_script('''window.open(\"http://x3x2dwb7jasax6tq.onion\",\"_blank\");''')\n",
    "browser.execute_script('''window.open(\"http://bkjcpa2klkkmowwq.onion\",\"_blank\");''')\n",
    "browser.execute_script('''window.open(\"http://xytjqcfendzeby22.onion\",\"_blank\");''')\n",
    "browser.execute_script('''window.open(\"http://nhib6cwhfsoyiugv.onion\",\"_blank\");''')\n",
    "browser.execute_script('''window.open(\"http://k3pd243s57fttnpa.onion\",\"_blank\");''')\n",
    "browser.execute_script('''window.open(\"http://4hvmvhnqyeorgzlb.onion\",\"_blank\");''')\n",
    "browser.execute_script('''window.open(\"http://uhivlt5grrqjhad7.onion\",\"_blank\");''')"
   ]
  },
  {
   "cell_type": "code",
   "execution_count": 9,
   "metadata": {
    "scrolled": true
   },
   "outputs": [
    {
     "data": {
      "text/plain": [
       "[{'domain': 'bkjcpa2klkkmowwq.onion',\n",
       "  'expiry': 1554176703.816827,\n",
       "  'httpOnly': False,\n",
       "  'name': 'MARKET_SESSION',\n",
       "  'path': '/',\n",
       "  'secure': False,\n",
       "  'value': 'g6q0ahsblqfmmk0nc4cqhvkhh7'}]"
      ]
     },
     "execution_count": 9,
     "metadata": {},
     "output_type": "execute_result"
    }
   ],
   "source": [
    "browser.get_cookies()"
   ]
  },
  {
   "cell_type": "markdown",
   "metadata": {},
   "source": [
    "# set request cookies and tor proxy, then get onion url website request test"
   ]
  },
  {
   "cell_type": "code",
   "execution_count": 10,
   "metadata": {},
   "outputs": [],
   "source": [
    "import requests\n",
    "\n",
    "domain = browser.get_cookies()[0]['domain']\n",
    "\n",
    "\n",
    "# tor proxy set\n",
    "cookies = {\"MARKET_SESSION\": browser.get_cookies()[0]['value']}\n",
    "request = requests.session()\n",
    "tor_proxy = {\n",
    "                    \"http\": \"socks5h://127.0.0.1:9050\",\n",
    "                    \"https\": \"socks5h://127.0.0.1:9050\"\n",
    "                 }\n",
    "request.proxies = tor_proxy\n",
    "\n",
    "headers = {\n",
    "                'Accept': 'text/html,application/xhtml+xml,application/xml;q=0.9,*/*;q=0.8',\n",
    "                'Accept-Encoding': 'gzip, deflate',\n",
    "                'Accept-Language': 'en-US,en;q=0.5',\n",
    "                'Cache-Control': 'max-age=0',\n",
    "                'Content-Type': 'application/x-www-form-urlencoded'\n",
    "               }"
   ]
  },
  {
   "cell_type": "code",
   "execution_count": 13,
   "metadata": {},
   "outputs": [],
   "source": [
    "r = request.get(\"http://\"+domain+\"/?category=117\", cookies=cookies, headers=headers)"
   ]
  },
  {
   "cell_type": "code",
   "execution_count": 14,
   "metadata": {},
   "outputs": [
    {
     "name": "stdout",
     "output_type": "stream",
     "text": [
      "[]\n"
     ]
    }
   ],
   "source": [
    "soup = BeautifulSoup(r.text, \"html.parser\")\n",
    "result = soup.find_all(\"a\",class_=re.compile(\"^productThumbImage\"))\n",
    "page_link = list()\n",
    "for item in result:\n",
    "  page_link.append(item['href'])\n",
    "page_link = list(set(page_link))\n",
    "print(page_link)"
   ]
  },
  {
   "cell_type": "code",
   "execution_count": 28,
   "metadata": {},
   "outputs": [
    {
     "ename": "UnboundLocalError",
     "evalue": "local variable 'escrow' referenced before assignment",
     "output_type": "error",
     "traceback": [
      "\u001b[0;31m---------------------------------------------------------------------------\u001b[0m",
      "\u001b[0;31mUnboundLocalError\u001b[0m                         Traceback (most recent call last)",
      "\u001b[0;32m<ipython-input-28-1a7b279432e0>\u001b[0m in \u001b[0;36m<module>\u001b[0;34m()\u001b[0m\n\u001b[1;32m      8\u001b[0m \u001b[0;31m# print(r.text)\u001b[0m\u001b[0;34m\u001b[0m\u001b[0;34m\u001b[0m\u001b[0m\n\u001b[1;32m      9\u001b[0m \u001b[0;34m\u001b[0m\u001b[0m\n\u001b[0;32m---> 10\u001b[0;31m \u001b[0mprint\u001b[0m\u001b[0;34m(\u001b[0m\u001b[0mcrawlInnerPage\u001b[0m\u001b[0;34m(\u001b[0m\u001b[0mr\u001b[0m\u001b[0;34m.\u001b[0m\u001b[0mtext\u001b[0m\u001b[0;34m)\u001b[0m\u001b[0;34m)\u001b[0m\u001b[0;34m\u001b[0m\u001b[0m\n\u001b[0m",
      "\u001b[0;32m~/Desktop/dream_market/dreamMarketFunc.py\u001b[0m in \u001b[0;36mcrawlInnerPage\u001b[0;34m(doc)\u001b[0m\n\u001b[1;32m     33\u001b[0m     \u001b[0;32melif\u001b[0m \u001b[0mindex\u001b[0m \u001b[0;34m==\u001b[0m \u001b[0;36m3\u001b[0m\u001b[0;34m:\u001b[0m\u001b[0;34m\u001b[0m\u001b[0m\n\u001b[1;32m     34\u001b[0m       \u001b[0mships_from\u001b[0m \u001b[0;34m=\u001b[0m \u001b[0mitem\u001b[0m\u001b[0;34m.\u001b[0m\u001b[0mfind\u001b[0m\u001b[0;34m(\u001b[0m\u001b[0;34m\"span\"\u001b[0m\u001b[0;34m)\u001b[0m\u001b[0;34m.\u001b[0m\u001b[0mtext\u001b[0m\u001b[0;34m.\u001b[0m\u001b[0mstrip\u001b[0m\u001b[0;34m(\u001b[0m\u001b[0;34m)\u001b[0m\u001b[0;34m\u001b[0m\u001b[0m\n\u001b[0;32m---> 35\u001b[0;31m     \u001b[0;32melif\u001b[0m \u001b[0mindex\u001b[0m \u001b[0;34m==\u001b[0m \u001b[0;36m4\u001b[0m\u001b[0;34m:\u001b[0m\u001b[0;34m\u001b[0m\u001b[0m\n\u001b[0m\u001b[1;32m     36\u001b[0m       \u001b[0mescrow\u001b[0m \u001b[0;34m=\u001b[0m \u001b[0mitem\u001b[0m\u001b[0;34m.\u001b[0m\u001b[0mfind\u001b[0m\u001b[0;34m(\u001b[0m\u001b[0;34m\"span\"\u001b[0m\u001b[0;34m)\u001b[0m\u001b[0;34m.\u001b[0m\u001b[0mtext\u001b[0m\u001b[0;34m.\u001b[0m\u001b[0mstrip\u001b[0m\u001b[0;34m(\u001b[0m\u001b[0;34m)\u001b[0m\u001b[0;34m\u001b[0m\u001b[0m\n\u001b[1;32m     37\u001b[0m \u001b[0;34m\u001b[0m\u001b[0m\n",
      "\u001b[0;31mUnboundLocalError\u001b[0m: local variable 'escrow' referenced before assignment"
     ]
    }
   ],
   "source": [
    "# for query in page_link:\n",
    "#     link = \"http://\"+domain+query[1:]\n",
    "#     r = request.get(link, cookies=cookies, headers=headers)\n",
    "#     print(\"link:\",link)\n",
    "#     entry = crawlInnerPage(r.text)\n",
    "#     print(entry)\n",
    "from dreamMarketFunc import *\n",
    "# print(r.text)\n",
    "\n",
    "print(crawlInnerPage(r.text))"
   ]
  },
  {
   "cell_type": "code",
   "execution_count": 31,
   "metadata": {},
   "outputs": [
    {
     "ename": "UnboundLocalError",
     "evalue": "local variable 'escrow' referenced before assignment",
     "output_type": "error",
     "traceback": [
      "\u001b[0;31m---------------------------------------------------------------------------\u001b[0m",
      "\u001b[0;31mUnboundLocalError\u001b[0m                         Traceback (most recent call last)",
      "\u001b[0;32m<ipython-input-31-46d24b50deaf>\u001b[0m in \u001b[0;36m<module>\u001b[0;34m()\u001b[0m\n\u001b[1;32m      2\u001b[0m \u001b[0;31m# print(r.text)\u001b[0m\u001b[0;34m\u001b[0m\u001b[0;34m\u001b[0m\u001b[0m\n\u001b[1;32m      3\u001b[0m \u001b[0;34m\u001b[0m\u001b[0m\n\u001b[0;32m----> 4\u001b[0;31m \u001b[0mprint\u001b[0m\u001b[0;34m(\u001b[0m\u001b[0mcrawlInnerPage\u001b[0m\u001b[0;34m(\u001b[0m\u001b[0mr\u001b[0m\u001b[0;34m.\u001b[0m\u001b[0mtext\u001b[0m\u001b[0;34m)\u001b[0m\u001b[0;34m)\u001b[0m\u001b[0;34m\u001b[0m\u001b[0m\n\u001b[0m",
      "\u001b[0;32m~/Desktop/dream_market/dreamMarketFunc.py\u001b[0m in \u001b[0;36mcrawlInnerPage\u001b[0;34m(doc)\u001b[0m\n\u001b[1;32m     33\u001b[0m     \u001b[0;32melif\u001b[0m \u001b[0mindex\u001b[0m \u001b[0;34m==\u001b[0m \u001b[0;36m3\u001b[0m\u001b[0;34m:\u001b[0m\u001b[0;34m\u001b[0m\u001b[0m\n\u001b[1;32m     34\u001b[0m       \u001b[0mships_from\u001b[0m \u001b[0;34m=\u001b[0m \u001b[0mitem\u001b[0m\u001b[0;34m.\u001b[0m\u001b[0mfind\u001b[0m\u001b[0;34m(\u001b[0m\u001b[0;34m\"span\"\u001b[0m\u001b[0;34m)\u001b[0m\u001b[0;34m.\u001b[0m\u001b[0mtext\u001b[0m\u001b[0;34m.\u001b[0m\u001b[0mstrip\u001b[0m\u001b[0;34m(\u001b[0m\u001b[0;34m)\u001b[0m\u001b[0;34m\u001b[0m\u001b[0m\n\u001b[0;32m---> 35\u001b[0;31m     \u001b[0;32melif\u001b[0m \u001b[0mindex\u001b[0m \u001b[0;34m==\u001b[0m \u001b[0;36m4\u001b[0m\u001b[0;34m:\u001b[0m\u001b[0;34m\u001b[0m\u001b[0m\n\u001b[0m\u001b[1;32m     36\u001b[0m       \u001b[0mescrow\u001b[0m \u001b[0;34m=\u001b[0m \u001b[0mitem\u001b[0m\u001b[0;34m.\u001b[0m\u001b[0mfind\u001b[0m\u001b[0;34m(\u001b[0m\u001b[0;34m\"span\"\u001b[0m\u001b[0;34m)\u001b[0m\u001b[0;34m.\u001b[0m\u001b[0mtext\u001b[0m\u001b[0;34m.\u001b[0m\u001b[0mstrip\u001b[0m\u001b[0;34m(\u001b[0m\u001b[0;34m)\u001b[0m\u001b[0;34m\u001b[0m\u001b[0m\n\u001b[1;32m     37\u001b[0m \u001b[0;34m\u001b[0m\u001b[0m\n",
      "\u001b[0;31mUnboundLocalError\u001b[0m: local variable 'escrow' referenced before assignment"
     ]
    }
   ],
   "source": [
    "from dreamMarketFunc import *\n",
    "# print(r.text)\n",
    "\n",
    "print(crawlInnerPage(r.text))"
   ]
  },
  {
   "cell_type": "code",
   "execution_count": null,
   "metadata": {},
   "outputs": [],
   "source": []
  }
 ],
 "metadata": {
  "kernelspec": {
   "display_name": "Python 3",
   "language": "python",
   "name": "python3"
  },
  "language_info": {
   "codemirror_mode": {
    "name": "ipython",
    "version": 3
   },
   "file_extension": ".py",
   "mimetype": "text/x-python",
   "name": "python",
   "nbconvert_exporter": "python",
   "pygments_lexer": "ipython3",
   "version": "3.6.4"
  }
 },
 "nbformat": 4,
 "nbformat_minor": 2
}
